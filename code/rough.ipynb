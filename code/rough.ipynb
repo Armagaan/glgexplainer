{
 "cells": [
  {
   "cell_type": "markdown",
   "metadata": {},
   "source": [
    "# Rough"
   ]
  },
  {
   "cell_type": "code",
   "execution_count": null,
   "metadata": {},
   "outputs": [],
   "source": [
    "import pickle"
   ]
  },
  {
   "cell_type": "code",
   "execution_count": null,
   "metadata": {},
   "outputs": [],
   "source": [
    "path = \"../our_data/local_explanations/PGExplainer/Mutagenicity/GCN_TF/TEST\"\n",
    "with open(f\"{path}/0/0_49.pkl\", \"rb\") as file:\n",
    "    x = pickle.load(file)"
   ]
  }
 ],
 "metadata": {
  "language_info": {
   "name": "python"
  }
 },
 "nbformat": 4,
 "nbformat_minor": 2
}
